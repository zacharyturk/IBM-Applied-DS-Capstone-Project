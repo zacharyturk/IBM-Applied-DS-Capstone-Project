{
 "cells": [
  {
   "cell_type": "markdown",
   "metadata": {},
   "source": [
    ">>> ## IBM Applied Data Science Capstone Final Project:\n",
    ">> # Exploring the Services Available Near and the Quality of Playgrounds in Germany\n",
    "#### This project is designed to satisfy the IBM Applied Data Science Capstone final project requirements. However, the project is also intended to be useful."
   ]
  },
  {
   "cell_type": "markdown",
   "metadata": {},
   "source": [
    "# Introduction <a name=\"introduction\"></a>"
   ]
  },
  {
   "cell_type": "markdown",
   "metadata": {},
   "source": [
    "### Description of the problem/background <a name=\"description\"></a>\n",
    "Before the series of coronavirus lockdowns that we've had in Germany, my spouse and I generally did our shopping and errands while our children were at school. We could then do family trips the nearby playgrounds in the afternoon. Playground trips would occur sometimes several times a week. \n",
    "<br /> \n",
    "<br />\n",
    "Now in coronavirus times, things are a bit different. For weeks at a time, our children are home ALL THE TIME in lockdown with us. So, to go do our shopping involves one of us staying with the children while the other is shopping. One option is of course to stay home with them, but they're also quite bored with being in lockdown and some outside time is great for them anyway. So, now that the lockdowns are less intense - playgrounds open but not always schools and daycares - we like to combine shopping and playground trips. This generally involves one of us going into the store while the other takes the children to a playground.\n",
    "<br />\n",
    "<br />\n",
    "To aid the combined shopping-playground process, this project will combine playground and commercial venue data. Using a crowd-sourced playground database and the Foursquare API, we can check which playgrounds are near what sorts of shops. Do we need to go to a variety of stores to meet our shopping requirements? There's a cluster of playgrounds for that. Do we need a set of playgrounds near supermarkets and such? Yep, we can find those. How about playgrounds with extensive equipment or playgrounds that are away from the shops so the children can really go crazy? Yes, we can identify those too. So, there's a couple different problems being discussed here. The primary one is combining shopping and playground trips into the village. The other is identifying playgrounds that fit specific playing needs. That is, playgrounds with a lot of equipment for an extended adventure versus more limited ones for shorter trips. I should be able to address both sorts of information requirements once I collect and prepare the data.\n",
    "<br />"
   ]
  },
  {
   "cell_type": "markdown",
   "metadata": {},
   "source": [
    "### Data plan<a name=\"data\"></a>\n",
    "The plan is to use html web scraping to retrieve a list of playgrounds and their characteristics from the crowd-source based website 'spielplatznet'. This site allows a user to search for a city in Germany which then returns a list of playgrounds in the vicinity. It is based on playground users inputting the data, so not all areas of the country are well-represented. However, the area where I will conduct the analysis - the village of Wedel in the state of Schleswig-Holstein (near Hamburg) has pretty good data. A plus is that I know many of the locations well and so can confirm when the data is complete or missing.\n",
    "<br />\n",
    "<br />\n",
    "The second substantial data source is the Foursquare API. I will use it to retrieve information on venues near each playground. I can then classify the playgrounds based on what's nearby for the purpose of combining shopping/errands and playground trips to the village. I'll primarily use the Foursquare data in a k-means clustering process, but also to search through for particular types of venues. These will include particular stores, store types, or stores with keywords in their titles such as 'icecream' ('eis' in German).\n",
    "<br />\n",
    "<br />\n",
    "I will also use geolocator to search for the village's geocoordinates. This is probably a little excessive as I could take an average/mean of the playground coordinates."
   ]
  },
  {
   "cell_type": "markdown",
   "metadata": {},
   "source": [
    "### Analysis plan<a name=\"setup\"></a>\n",
    "The general plan follows:\n",
    "- Retrieve a list of the playgrounds in the vicinity of a German city.\n",
    "- Use that list to then look up each playground's detailed information.\n",
    "- Use Foursquare's api to then find which venues are nearby and add to the dataset.\n",
    "- Find the commercial characteristics of each playground's neighborhood.\n",
    "- Cluster the playgrounds based on their commercial surroundings.\n",
    "- Also cluster the playgrounds based on the equipment available.\n",
    "- Finally, make a few lists of playgrounds with kid-friendly food and icecream nearby and certain playground features."
   ]
  },
  {
   "cell_type": "markdown",
   "metadata": {},
   "source": [
    "#### Finally, here is the planned table of contents:\n",
    "### Table of contents\n",
    "1. Introduction\n",
    "2. Part I: Get a list of playgrounds in a city of interes\n",
    "3. Part II: Get detailed playground information for each location\n",
    "4. Part III: Visualizing the playground dataset and adding Foursquare data\n",
    "5. Part IV: Clustering playgrounds using k-means clustering\n",
    "6. Bonus I: Clustering and mapping based on playground equipment\n",
    "7. Bonus II: Finding the playgrounds that are near fast food restaurants, icecream shops, etc.\n",
    "8. Concluding remarks"
   ]
  }
 ],
 "metadata": {
  "kernelspec": {
   "display_name": "Python 3",
   "language": "python",
   "name": "python3"
  },
  "language_info": {
   "codemirror_mode": {
    "name": "ipython",
    "version": 3
   },
   "file_extension": ".py",
   "mimetype": "text/x-python",
   "name": "python",
   "nbconvert_exporter": "python",
   "pygments_lexer": "ipython3",
   "version": "3.8.5"
  }
 },
 "nbformat": 4,
 "nbformat_minor": 4
}
